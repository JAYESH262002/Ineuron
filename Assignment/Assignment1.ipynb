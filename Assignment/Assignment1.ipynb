{
 "cells": [
  {
   "cell_type": "markdown",
   "id": "f74bc231",
   "metadata": {},
   "source": [
    "### <div class='alert alert-info'>Assignment 1 by Jayesh Singh </div>"
   ]
  },
  {
   "cell_type": "raw",
   "id": "36d07608",
   "metadata": {},
   "source": [
    "1. In the below elements which of them are values or an expression? eg:- values can be integer or string and expressions will be mathematical operators.\n",
    "*\n",
    "'hello'\n",
    "-87.8\n",
    "-\n",
    "/\n",
    "+\n",
    "6"
   ]
  },
  {
   "cell_type": "markdown",
   "id": "44ba9fd4",
   "metadata": {},
   "source": [
    "##### Answer: "
   ]
  },
  {
   "cell_type": "markdown",
   "id": "82678ebb",
   "metadata": {},
   "source": [
    "`Value are: ` 'hello', -87.8, 6\n",
    "\n",
    "`Expression are: ` *, -, /, +"
   ]
  },
  {
   "cell_type": "code",
   "execution_count": null,
   "id": "8bf3cc55",
   "metadata": {},
   "outputs": [],
   "source": []
  },
  {
   "cell_type": "raw",
   "id": "a64ab867",
   "metadata": {},
   "source": [
    "2. What is the difference between string and variable?"
   ]
  },
  {
   "cell_type": "markdown",
   "id": "3d906819",
   "metadata": {},
   "source": [
    "##### Answer: "
   ]
  },
  {
   "cell_type": "markdown",
   "id": "959b1efc",
   "metadata": {},
   "source": [
    "String is a alpha numeric data which of text type. ex-> \"Hello, am Jayesh Singh Raghuvanshi\"\n",
    "\n",
    "Variable can be a name given to the memory location which store any type of value. ex-> a=10, arr = {1,2,3,4}"
   ]
  },
  {
   "cell_type": "code",
   "execution_count": null,
   "id": "186c6648",
   "metadata": {},
   "outputs": [],
   "source": []
  },
  {
   "cell_type": "raw",
   "id": "28dbbf2b",
   "metadata": {},
   "source": [
    "3. Describe three different data types."
   ]
  },
  {
   "cell_type": "markdown",
   "id": "f74514fd",
   "metadata": {},
   "source": [
    "##### Answer: "
   ]
  },
  {
   "cell_type": "markdown",
   "id": "28cf1238",
   "metadata": {},
   "source": [
    "3 data types are: Interger, Float, Boolean, etc.\n",
    "\n",
    "`Integer`: which store numerical(discreate quantitative variable) value. ex: 4,5,6,9,12\n",
    "\n",
    "`Float`:  which store decimal ( continous quantitative variable) value. ex: 3.14, 9.6\n",
    "\n",
    "`Boolean`: which store only true and false. these are generally refer as true as 1 and false as 0."
   ]
  },
  {
   "cell_type": "code",
   "execution_count": null,
   "id": "ae2b5e0e",
   "metadata": {},
   "outputs": [],
   "source": []
  },
  {
   "cell_type": "raw",
   "id": "c98479bf",
   "metadata": {},
   "source": [
    "4. What is an expression made up of? What do all expressions do?"
   ]
  },
  {
   "cell_type": "markdown",
   "id": "4d55b885",
   "metadata": {},
   "source": [
    "##### Answer: "
   ]
  },
  {
   "cell_type": "markdown",
   "id": "6cf5372e",
   "metadata": {},
   "source": [
    "It's  consist of values and operators, and they can always evaluate down to a new value.\n",
    "ex: y=mx+c. where m,x & c are value and + is an operators. and after solving it's will store its in y."
   ]
  },
  {
   "cell_type": "code",
   "execution_count": null,
   "id": "fa6b8262",
   "metadata": {},
   "outputs": [],
   "source": []
  },
  {
   "cell_type": "raw",
   "id": "32ce0726",
   "metadata": {},
   "source": [
    "5. This assignment statements, like spam = 10. What is the difference between an\n",
    "expression and a statement?"
   ]
  },
  {
   "cell_type": "markdown",
   "id": "c965b22f",
   "metadata": {},
   "source": [
    "##### Answer: "
   ]
  },
  {
   "cell_type": "markdown",
   "id": "0d525216",
   "metadata": {},
   "source": [
    "1)An expression evaluates to a single value. A statement does not.\n",
    "\n",
    "2)Statements represent an action or command e.g print statements, assignment statements.\n",
    "\n",
    "print 'Ram Ram Bhai', x = 108.\n",
    "\n",
    "whereas Expression is a combination of variables, operations and values that produce a result value.\n",
    "\n",
    "5 * 5 -> resultant in 25"
   ]
  },
  {
   "cell_type": "code",
   "execution_count": null,
   "id": "ff6a1dc4",
   "metadata": {},
   "outputs": [],
   "source": []
  },
  {
   "cell_type": "raw",
   "id": "22d4b90b",
   "metadata": {},
   "source": [
    "6. After running the following code, what does the variable bacon contain?\n",
    "bacon = 22\n",
    "bacon + 1"
   ]
  },
  {
   "cell_type": "markdown",
   "id": "cb2c12a4",
   "metadata": {},
   "source": [
    "##### Answer: "
   ]
  },
  {
   "cell_type": "markdown",
   "id": "ea4b2639",
   "metadata": {},
   "source": [
    "After execuating the code, the value of `bacon` will be `22`"
   ]
  },
  {
   "cell_type": "code",
   "execution_count": null,
   "id": "b566cfa8",
   "metadata": {},
   "outputs": [],
   "source": []
  },
  {
   "cell_type": "raw",
   "id": "77087fee",
   "metadata": {},
   "source": [
    "7. What should the values of the following two terms be?\n",
    "'spam' + 'spamspam'\n",
    "'spam' * 3"
   ]
  },
  {
   "cell_type": "markdown",
   "id": "f93ee66e",
   "metadata": {},
   "source": [
    "##### Answer: "
   ]
  },
  {
   "cell_type": "markdown",
   "id": "26f5626e",
   "metadata": {},
   "source": [
    "The 1st case,the result will be `spamspamspam` because both value are of string so they will be concatinate.\n",
    "\n",
    "for the 2nd case,theresult will be also be same `spamspamspam` because it wil replicate it."
   ]
  },
  {
   "cell_type": "code",
   "execution_count": null,
   "id": "9062e2b1",
   "metadata": {},
   "outputs": [],
   "source": []
  },
  {
   "cell_type": "raw",
   "id": "33f912f2",
   "metadata": {},
   "source": [
    "8. Why is eggs a valid variable name while 100 is invalid?"
   ]
  },
  {
   "cell_type": "markdown",
   "id": "86801e26",
   "metadata": {},
   "source": [
    "##### Answer: "
   ]
  },
  {
   "cell_type": "markdown",
   "id": "1f74f555",
   "metadata": {},
   "source": [
    "According to Shell Scripting – Rules for Naming Variable Name, variable name can start with alphabet but can not start with numerical or special character."
   ]
  },
  {
   "cell_type": "code",
   "execution_count": null,
   "id": "a5175440",
   "metadata": {},
   "outputs": [],
   "source": []
  },
  {
   "cell_type": "raw",
   "id": "39c56d29",
   "metadata": {},
   "source": [
    "9. What three functions can be used to get the integer, floating-point number, or string\n",
    "version of a value?"
   ]
  },
  {
   "cell_type": "markdown",
   "id": "b5d70b05",
   "metadata": {},
   "source": [
    "##### Answer: "
   ]
  },
  {
   "cell_type": "markdown",
   "id": "4dcba8bc",
   "metadata": {},
   "source": [
    "The 3 function are: `str`, `int` & `float`."
   ]
  },
  {
   "cell_type": "code",
   "execution_count": null,
   "id": "95fc378c",
   "metadata": {},
   "outputs": [],
   "source": []
  },
  {
   "cell_type": "raw",
   "id": "bc50371b",
   "metadata": {},
   "source": [
    "10. Why does this expression cause an error? How can you fix it?\n",
    "'I have eaten' + 99 +'burritos'"
   ]
  },
  {
   "cell_type": "markdown",
   "id": "208f18e5",
   "metadata": {},
   "source": [
    "##### Answer: "
   ]
  },
  {
   "cell_type": "markdown",
   "id": "36e31c03",
   "metadata": {},
   "source": [
    "Because we can not concatinate a string value with a numrical value. to do it we have 1st to convert the numerical value into str type.\n",
    "`'I have eaten ' + str(99) +' burritos'`"
   ]
  },
  {
   "cell_type": "code",
   "execution_count": null,
   "id": "73fe8105",
   "metadata": {},
   "outputs": [],
   "source": []
  }
 ],
 "metadata": {
  "kernelspec": {
   "display_name": "Python 3 (ipykernel)",
   "language": "python",
   "name": "python3"
  },
  "language_info": {
   "codemirror_mode": {
    "name": "ipython",
    "version": 3
   },
   "file_extension": ".py",
   "mimetype": "text/x-python",
   "name": "python",
   "nbconvert_exporter": "python",
   "pygments_lexer": "ipython3",
   "version": "3.9.12"
  }
 },
 "nbformat": 4,
 "nbformat_minor": 5
}
