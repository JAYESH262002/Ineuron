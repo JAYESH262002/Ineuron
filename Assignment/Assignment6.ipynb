{
 "cells": [
  {
   "cell_type": "markdown",
   "id": "f89454d0",
   "metadata": {},
   "source": [
    "### <div class='alert alert-info'>Assignment6</div> "
   ]
  },
  {
   "cell_type": "raw",
   "id": "1c59a6bd",
   "metadata": {},
   "source": []
  },
  {
   "cell_type": "markdown",
   "id": "c05ef8e2",
   "metadata": {},
   "source": [
    "### <div class='alert alert-info'>Q1. What are escape characters, and how do you use them?</div> "
   ]
  },
  {
   "cell_type": "markdown",
   "id": "ceeb5f86",
   "metadata": {},
   "source": [
    "#### Answer:"
   ]
  },
  {
   "cell_type": "markdown",
   "id": "24398b3a",
   "metadata": {},
   "source": [
    "Escape characters represent characters in string values that would otherwise be difficult or impossible to type into code. In Python strings, the backslash \"\" is a special character, also called the \"escape\" character. It is used in representing certain whitespace characters:\n",
    "\n",
    "- `\"\\t\"` is a tab\n",
    "\n",
    "- `\"\\n\"` is a newline, and\n",
    "\n",
    "- `\"\\r\"` is a carriage return."
   ]
  },
  {
   "cell_type": "raw",
   "id": "6a6b163b",
   "metadata": {},
   "source": []
  },
  {
   "cell_type": "markdown",
   "id": "53f00587",
   "metadata": {},
   "source": [
    "### <div class='alert alert-info'>Q2. What do the escape characters n and t stand for?</div> "
   ]
  },
  {
   "cell_type": "markdown",
   "id": "c345260a",
   "metadata": {},
   "source": [
    "#### Answer:"
   ]
  },
  {
   "cell_type": "markdown",
   "id": "d84adf47",
   "metadata": {},
   "source": [
    "- `\"\\n\"` is a newline\n",
    "\n",
    "- `\"\\r\"` is a carriage return"
   ]
  },
  {
   "cell_type": "raw",
   "id": "f74c9aff",
   "metadata": {},
   "source": []
  },
  {
   "cell_type": "markdown",
   "id": "e990d538",
   "metadata": {},
   "source": [
    "### <div class='alert alert-info'>Q3. What is the way to include backslash characters in a string?</div>"
   ]
  },
  {
   "cell_type": "markdown",
   "id": "bf16ea3f",
   "metadata": {},
   "source": [
    "#### Answer:"
   ]
  },
  {
   "cell_type": "markdown",
   "id": "62c087c8",
   "metadata": {},
   "source": [
    "The `\\` escape character will represent a backslash character."
   ]
  },
  {
   "cell_type": "code",
   "execution_count": 1,
   "id": "ee3b87f0",
   "metadata": {},
   "outputs": [
    {
     "name": "stdout",
     "output_type": "stream",
     "text": [
      "hello, i am jayesh\n",
      "it's nice to meet you.\n"
     ]
    }
   ],
   "source": [
    "print(\"hello, i am jayesh\\nit's nice to meet you.\")"
   ]
  },
  {
   "cell_type": "markdown",
   "id": "ac1a1240",
   "metadata": {},
   "source": [
    "Here we have used `\\n` backslash for new line."
   ]
  },
  {
   "cell_type": "raw",
   "id": "f37edac8",
   "metadata": {},
   "source": []
  },
  {
   "cell_type": "markdown",
   "id": "766710e9",
   "metadata": {},
   "source": [
    "### <div class='alert alert-info'>Q4. The string &quot;Howl&#39;s Moving Castle&quot; is a correct value. Why isn&#39;t the single quote character in the word Howl&#39;s not escaped a problem?</div> "
   ]
  },
  {
   "cell_type": "markdown",
   "id": "9d852224",
   "metadata": {},
   "source": [
    "#### Answer:"
   ]
  },
  {
   "cell_type": "markdown",
   "id": "dccd3ec8",
   "metadata": {},
   "source": [
    "The single quote in Howl's is fine because we have used double quotes to mark the beginning and end of the string.\n",
    "\n",
    "even if we have to use \"howl's\" we can use it by ` \"\"\" \"Howl's Moving Castle\" \"\"\" `"
   ]
  },
  {
   "cell_type": "code",
   "execution_count": 2,
   "id": "ed8cc3ca",
   "metadata": {},
   "outputs": [
    {
     "name": "stdout",
     "output_type": "stream",
     "text": [
      " \"Howl's Moving Castle\" \n"
     ]
    }
   ],
   "source": [
    "print(\"\"\" \"Howl's Moving Castle\" \"\"\")"
   ]
  },
  {
   "cell_type": "raw",
   "id": "9d8d77a5",
   "metadata": {},
   "source": []
  },
  {
   "cell_type": "markdown",
   "id": "e5da7ae6",
   "metadata": {},
   "source": [
    "### <div class='alert alert-info'>Q5. How do you write a string of newlines if you don't want to use the n character? </div> "
   ]
  },
  {
   "cell_type": "markdown",
   "id": "c6b4c99b",
   "metadata": {},
   "source": [
    "#### Answer:"
   ]
  },
  {
   "cell_type": "markdown",
   "id": "f2e51827",
   "metadata": {},
   "source": [
    "Multiline strings allow you to use newlines in strings without the \\n escape character."
   ]
  },
  {
   "cell_type": "code",
   "execution_count": 3,
   "id": "363f5eb9",
   "metadata": {},
   "outputs": [
    {
     "name": "stdout",
     "output_type": "stream",
     "text": [
      "Hello nice to meet you,\n",
      "i am Jayesh Singh Raghuvanshi\n",
      "and what's your name ?.\n"
     ]
    }
   ],
   "source": [
    "string = \"\"\"Hello nice to meet you,\n",
    "i am Jayesh Singh Raghuvanshi\n",
    "and what's your name ?.\"\"\"\n",
    "\n",
    "print(string)"
   ]
  },
  {
   "cell_type": "raw",
   "id": "1fee9602",
   "metadata": {},
   "source": []
  },
  {
   "cell_type": "markdown",
   "id": "925ed6f8",
   "metadata": {},
   "source": [
    "### <div class='alert alert-info'>Q6. What are the values of the given expressions? </div>\n",
    "-    'Hello, world!'[1]\n",
    "-    'Hello, world!'[0:5]\n",
    "-    'Hello, world!'[:5]\n",
    "-    'Hello, world!'[3:] "
   ]
  },
  {
   "cell_type": "markdown",
   "id": "b3ce0631",
   "metadata": {},
   "source": [
    "#### Answer:"
   ]
  },
  {
   "cell_type": "code",
   "execution_count": 4,
   "id": "a03e7189",
   "metadata": {},
   "outputs": [
    {
     "name": "stdout",
     "output_type": "stream",
     "text": [
      "e\n",
      "Hello\n",
      "Hello\n",
      "lo, world!\n"
     ]
    }
   ],
   "source": [
    "print('Hello, world!'[1])\n",
    "print('Hello, world!'[0:5])\n",
    "print('Hello, world!'[:5])\n",
    "print('Hello, world!'[3:])"
   ]
  },
  {
   "cell_type": "raw",
   "id": "2caffbbd",
   "metadata": {},
   "source": []
  },
  {
   "cell_type": "markdown",
   "id": "4a69b5b0",
   "metadata": {},
   "source": [
    "#### Answer:"
   ]
  },
  {
   "cell_type": "markdown",
   "id": "c8d2b191",
   "metadata": {},
   "source": [
    "### <div class='alert alert-info'>Q7. What are the values of the following expressions?</div>\n",
    "- 'Hello'.upper()\n",
    "- 'Hello'.upper().isupper()\n",
    "- 'Hello'.upper().lower() "
   ]
  },
  {
   "cell_type": "code",
   "execution_count": 5,
   "id": "02f42bf7",
   "metadata": {},
   "outputs": [
    {
     "name": "stdout",
     "output_type": "stream",
     "text": [
      "HELLO\n",
      "True\n",
      "hello\n"
     ]
    }
   ],
   "source": [
    "print('Hello'.upper())\n",
    "print('Hello'.upper().isupper())\n",
    "print('Hello'.upper().lower() )"
   ]
  },
  {
   "cell_type": "raw",
   "id": "d261c672",
   "metadata": {},
   "source": []
  },
  {
   "cell_type": "markdown",
   "id": "7fe60e1e",
   "metadata": {},
   "source": [
    "### <div class='alert alert-info'>Q8. What are the values of the following expressions?</div>\n",
    "- 'Remember, remember, the fifth of July.'.split()\n",
    "- '-'.join('There can only one.'.split())"
   ]
  },
  {
   "cell_type": "markdown",
   "id": "792af818",
   "metadata": {},
   "source": [
    "#### Answer:"
   ]
  },
  {
   "cell_type": "code",
   "execution_count": 6,
   "id": "72c40a9c",
   "metadata": {},
   "outputs": [
    {
     "name": "stdout",
     "output_type": "stream",
     "text": [
      "['Remember,', 'remember,', 'the', 'fifth', 'of', 'July.']\n",
      "\n",
      "There-can-only-one.\n"
     ]
    }
   ],
   "source": [
    "print('Remember, remember, the fifth of July.'.split())\n",
    "print()\n",
    "print('-'.join('There can only one.'.split()))"
   ]
  },
  {
   "cell_type": "raw",
   "id": "64c1c210",
   "metadata": {},
   "source": []
  },
  {
   "cell_type": "markdown",
   "id": "0437bcf0",
   "metadata": {},
   "source": [
    "### <div class='alert alert-info'>Q9. What are the methods for right-justifying, left-justifying, and centering a string?</div>"
   ]
  },
  {
   "cell_type": "markdown",
   "id": "5d53d4ea",
   "metadata": {},
   "source": [
    "#### Answer:"
   ]
  },
  {
   "cell_type": "markdown",
   "id": "e5773b4c",
   "metadata": {},
   "source": [
    "#### Don't know"
   ]
  },
  {
   "cell_type": "raw",
   "id": "6a4e560f",
   "metadata": {},
   "source": []
  },
  {
   "cell_type": "markdown",
   "id": "56e17ca4",
   "metadata": {},
   "source": [
    "### <div class='alert alert-info'>Q10. What is the best way to remove whitespace characters from the start or end?</div> "
   ]
  },
  {
   "cell_type": "markdown",
   "id": "d6100649",
   "metadata": {},
   "source": [
    "#### Answer:"
   ]
  },
  {
   "cell_type": "markdown",
   "id": "d79096fc",
   "metadata": {},
   "source": [
    "The `lstrip()` and `rstrip()` methods remove whitespace from the left and right ends of a string, respectively."
   ]
  },
  {
   "cell_type": "code",
   "execution_count": 7,
   "id": "d54fbfbb",
   "metadata": {
    "scrolled": true
   },
   "outputs": [
    {
     "name": "stdout",
     "output_type": "stream",
     "text": [
      "                Hemlo (-_-)\n"
     ]
    }
   ],
   "source": [
    "a = \"                Hemlo (-_-)\"\n",
    "print(a)"
   ]
  },
  {
   "cell_type": "code",
   "execution_count": 8,
   "id": "079b9318",
   "metadata": {},
   "outputs": [
    {
     "name": "stdout",
     "output_type": "stream",
     "text": [
      "Hemlo (-_-)\n"
     ]
    }
   ],
   "source": [
    "a = \"                Hemlo (-_-)\"\n",
    "print(a.lstrip())"
   ]
  },
  {
   "cell_type": "markdown",
   "id": "a3e95cc0",
   "metadata": {},
   "source": [
    "we have remomed all the whitespace at the left side, same we can do it with `rstrip()` for right side"
   ]
  },
  {
   "cell_type": "code",
   "execution_count": null,
   "id": "46af371e",
   "metadata": {},
   "outputs": [],
   "source": []
  }
 ],
 "metadata": {
  "kernelspec": {
   "display_name": "Python 3 (ipykernel)",
   "language": "python",
   "name": "python3"
  },
  "language_info": {
   "codemirror_mode": {
    "name": "ipython",
    "version": 3
   },
   "file_extension": ".py",
   "mimetype": "text/x-python",
   "name": "python",
   "nbconvert_exporter": "python",
   "pygments_lexer": "ipython3",
   "version": "3.9.12"
  }
 },
 "nbformat": 4,
 "nbformat_minor": 5
}
