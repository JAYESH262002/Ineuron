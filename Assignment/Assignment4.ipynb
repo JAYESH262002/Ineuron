{
 "cells": [
  {
   "cell_type": "markdown",
   "id": "37021661",
   "metadata": {},
   "source": [
    "### <div class='alert alert-info'> Assignment4 by Jayesh Singh </div>"
   ]
  },
  {
   "cell_type": "raw",
   "id": "1af37b36",
   "metadata": {},
   "source": []
  },
  {
   "cell_type": "markdown",
   "id": "f3f064a5",
   "metadata": {},
   "source": [
    "### Q1. What exactly is []?"
   ]
  },
  {
   "cell_type": "markdown",
   "id": "4b857ff4",
   "metadata": {},
   "source": [
    "#### Answer:"
   ]
  },
  {
   "cell_type": "markdown",
   "id": "0d84f635",
   "metadata": {},
   "source": [
    "The empty list value, which is a list value that contains no items. This is similar to how '' is the empty string value."
   ]
  },
  {
   "cell_type": "raw",
   "id": "b29afbea",
   "metadata": {},
   "source": []
  },
  {
   "cell_type": "markdown",
   "id": "d926c5c5",
   "metadata": {},
   "source": [
    "### Q2. In a list of values stored in a variable called spam, how would you assign the value &#39;hello&#39; as the third value? (Assume [2, 4, 6, 8, 10] are in spam.) "
   ]
  },
  {
   "cell_type": "markdown",
   "id": "10bdb267",
   "metadata": {},
   "source": [
    "#### Answer:"
   ]
  },
  {
   "cell_type": "code",
   "execution_count": 1,
   "id": "4975ee5d",
   "metadata": {},
   "outputs": [
    {
     "data": {
      "text/plain": [
       "[2, 4, 'hello', 8, 10]"
      ]
     },
     "execution_count": 1,
     "metadata": {},
     "output_type": "execute_result"
    }
   ],
   "source": [
    "spam = [2, 4, 6, 8, 10]\n",
    "spam[2] = 'hello'\n",
    "spam"
   ]
  },
  {
   "cell_type": "raw",
   "id": "ceec9fb6",
   "metadata": {},
   "source": []
  },
  {
   "cell_type": "markdown",
   "id": "3bbcf119",
   "metadata": {},
   "source": [
    "### Q3. What is the value of spam[int(int(&#39;3&#39; * 2) / 11)]? "
   ]
  },
  {
   "cell_type": "markdown",
   "id": "863d9d76",
   "metadata": {},
   "source": [
    "#### Answer:"
   ]
  },
  {
   "cell_type": "markdown",
   "id": "0a151d38",
   "metadata": {},
   "source": [
    "The value of `int(int('3' * 2) / 11)` is `3`"
   ]
  },
  {
   "cell_type": "code",
   "execution_count": 2,
   "id": "4ff59016",
   "metadata": {},
   "outputs": [
    {
     "data": {
      "text/plain": [
       "3"
      ]
     },
     "execution_count": 2,
     "metadata": {},
     "output_type": "execute_result"
    }
   ],
   "source": [
    "int(int('3' * 2) / 11)"
   ]
  },
  {
   "cell_type": "raw",
   "id": "8ff099a9",
   "metadata": {},
   "source": []
  },
  {
   "cell_type": "markdown",
   "id": "783d7745",
   "metadata": {},
   "source": [
    "### Q4. What is the value of spam[-1]?"
   ]
  },
  {
   "cell_type": "code",
   "execution_count": 3,
   "id": "57fdf89b",
   "metadata": {},
   "outputs": [
    {
     "data": {
      "text/plain": [
       "3"
      ]
     },
     "execution_count": 3,
     "metadata": {},
     "output_type": "execute_result"
    }
   ],
   "source": [
    "int(int('3' * 2) / 11)"
   ]
  },
  {
   "cell_type": "markdown",
   "id": "4707d09a",
   "metadata": {},
   "source": [
    "#### Answer:"
   ]
  },
  {
   "cell_type": "markdown",
   "id": "01d1d716",
   "metadata": {},
   "source": [
    "The value of spam[-1] will be equal to spam[4]"
   ]
  },
  {
   "cell_type": "code",
   "execution_count": 4,
   "id": "4c7211eb",
   "metadata": {},
   "outputs": [
    {
     "data": {
      "text/plain": [
       "(10, 10)"
      ]
     },
     "execution_count": 4,
     "metadata": {},
     "output_type": "execute_result"
    }
   ],
   "source": [
    "spam[-1] , spam[4]"
   ]
  },
  {
   "cell_type": "raw",
   "id": "f4f110ca",
   "metadata": {},
   "source": []
  },
  {
   "cell_type": "markdown",
   "id": "bf11f025",
   "metadata": {},
   "source": [
    "### Q5. What is the value of spam[:2]? 5. What is the value of spam[:2]?"
   ]
  },
  {
   "cell_type": "markdown",
   "id": "488d9d5f",
   "metadata": {},
   "source": [
    "#### Answer:"
   ]
  },
  {
   "cell_type": "markdown",
   "id": "841bc302",
   "metadata": {},
   "source": [
    "It's mean value of from from 0 till 2-1 position, which is spam[0] & spam[1] value."
   ]
  },
  {
   "cell_type": "code",
   "execution_count": 5,
   "id": "e832191f",
   "metadata": {},
   "outputs": [
    {
     "data": {
      "text/plain": [
       "[2, 4]"
      ]
     },
     "execution_count": 5,
     "metadata": {},
     "output_type": "execute_result"
    }
   ],
   "source": [
    "spam[:2]"
   ]
  },
  {
   "cell_type": "raw",
   "id": "6ec59574",
   "metadata": {},
   "source": []
  },
  {
   "cell_type": "markdown",
   "id": "152e6ac7",
   "metadata": {},
   "source": [
    "### Let's pretend bacon has the list [3.14, 'cat', 11, 'cat', True] for the next three questions. "
   ]
  },
  {
   "cell_type": "markdown",
   "id": "a0b84891",
   "metadata": {},
   "source": [
    "### Q6. What is the value of bacon.index('cat')? "
   ]
  },
  {
   "cell_type": "markdown",
   "id": "b4fa9a69",
   "metadata": {},
   "source": [
    "#### Answer:"
   ]
  },
  {
   "cell_type": "markdown",
   "id": "7f3b7314",
   "metadata": {},
   "source": [
    "1"
   ]
  },
  {
   "cell_type": "raw",
   "id": "82bf804a",
   "metadata": {},
   "source": []
  },
  {
   "cell_type": "markdown",
   "id": "32eb1d81",
   "metadata": {},
   "source": [
    "### Q7. How does bacon.append(99) change the look of the list value in bacon? "
   ]
  },
  {
   "cell_type": "markdown",
   "id": "211685b2",
   "metadata": {},
   "source": [
    "#### Answer:"
   ]
  },
  {
   "cell_type": "markdown",
   "id": "8fdbb0af",
   "metadata": {},
   "source": [
    "It will add 99 at the last index by extending it by one. and will look like `[3.14, 'cat', 11, 'cat', True, 99]`"
   ]
  },
  {
   "cell_type": "raw",
   "id": "cec28539",
   "metadata": {},
   "source": []
  },
  {
   "cell_type": "markdown",
   "id": "96142bae",
   "metadata": {},
   "source": [
    "### Q8. How does bacon.remove(&#39;cat&#39;) change the look of the list in bacon? "
   ]
  },
  {
   "cell_type": "markdown",
   "id": "c5fc36a3",
   "metadata": {},
   "source": [
    "#### Answer:"
   ]
  },
  {
   "cell_type": "markdown",
   "id": "396d5b49",
   "metadata": {},
   "source": [
    "It will remove the 1st occurance of 'cat' inside bacon list. `[3.14, 11, 'cat', True, 99]`"
   ]
  },
  {
   "cell_type": "raw",
   "id": "edeae97f",
   "metadata": {},
   "source": []
  },
  {
   "cell_type": "markdown",
   "id": "050f5cf5",
   "metadata": {},
   "source": [
    "### Q9. What are the list concatenation and list replication operators? "
   ]
  },
  {
   "cell_type": "markdown",
   "id": "db77cc9a",
   "metadata": {},
   "source": [
    "#### Answer:"
   ]
  },
  {
   "cell_type": "markdown",
   "id": "1cf87b1d",
   "metadata": {},
   "source": [
    "The operator for list concatenation is +, while the operator for replication is *."
   ]
  },
  {
   "cell_type": "code",
   "execution_count": 6,
   "id": "52bad279",
   "metadata": {},
   "outputs": [
    {
     "name": "stdout",
     "output_type": "stream",
     "text": [
      "[1, 2, 3, 4, 5, 6]\n",
      "[1, 2, 3, 1, 2, 3, 1, 2, 3]\n"
     ]
    }
   ],
   "source": [
    "lst1 = [1, 2, 3]\n",
    "lst2 = [4, 5, 6]\n",
    "\n",
    "print(lst1+lst2)\n",
    "print(lst1 * 3)"
   ]
  },
  {
   "cell_type": "raw",
   "id": "0f5580c8",
   "metadata": {},
   "source": []
  },
  {
   "cell_type": "markdown",
   "id": "7982b1ad",
   "metadata": {},
   "source": [
    "### Q10. What is difference between the list methods append() and insert()? "
   ]
  },
  {
   "cell_type": "markdown",
   "id": "83525e9d",
   "metadata": {},
   "source": [
    "#### Answer:"
   ]
  },
  {
   "cell_type": "markdown",
   "id": "690a6c88",
   "metadata": {},
   "source": [
    "`append()`: will add the value at the end of the list.\n",
    "\n",
    "`insert()`: will add the value at the specified index."
   ]
  },
  {
   "cell_type": "code",
   "execution_count": 7,
   "id": "b203a820",
   "metadata": {},
   "outputs": [
    {
     "data": {
      "text/plain": [
       "[1, 2, 3, 5]"
      ]
     },
     "execution_count": 7,
     "metadata": {},
     "output_type": "execute_result"
    }
   ],
   "source": [
    "lst = [1,2,3]\n",
    "lst.append(5)\n",
    "lst"
   ]
  },
  {
   "cell_type": "code",
   "execution_count": 8,
   "id": "016d7334",
   "metadata": {},
   "outputs": [
    {
     "data": {
      "text/plain": [
       "[1, 2, 3, 4, 5]"
      ]
     },
     "execution_count": 8,
     "metadata": {},
     "output_type": "execute_result"
    }
   ],
   "source": [
    "lst.insert(3,4)\n",
    "lst"
   ]
  },
  {
   "cell_type": "raw",
   "id": "8f03500c",
   "metadata": {},
   "source": []
  },
  {
   "cell_type": "markdown",
   "id": "704cf168",
   "metadata": {},
   "source": [
    "### Q11. What are the two methods for removing items from a list?"
   ]
  },
  {
   "cell_type": "markdown",
   "id": "6071023f",
   "metadata": {},
   "source": [
    "#### Answer:"
   ]
  },
  {
   "cell_type": "markdown",
   "id": "7d4c1d36",
   "metadata": {},
   "source": [
    "The `del` statement and the `remove()` list method are two ways to remove values from a list."
   ]
  },
  {
   "cell_type": "code",
   "execution_count": 9,
   "id": "02248f7e",
   "metadata": {
    "scrolled": true
   },
   "outputs": [
    {
     "data": {
      "text/plain": [
       "[1, 2, 3, 5]"
      ]
     },
     "execution_count": 9,
     "metadata": {},
     "output_type": "execute_result"
    }
   ],
   "source": [
    "lst.remove(4)\n",
    "lst"
   ]
  },
  {
   "cell_type": "markdown",
   "id": "6c480b99",
   "metadata": {},
   "source": [
    "lst.remove(value), will removed the value from the list"
   ]
  },
  {
   "cell_type": "code",
   "execution_count": 10,
   "id": "9e4636f6",
   "metadata": {},
   "outputs": [
    {
     "data": {
      "text/plain": [
       "[1, 2, 3]"
      ]
     },
     "execution_count": 10,
     "metadata": {},
     "output_type": "execute_result"
    }
   ],
   "source": [
    "del lst[3]\n",
    "lst"
   ]
  },
  {
   "cell_type": "markdown",
   "id": "8a8ae7ae",
   "metadata": {},
   "source": [
    "del lst[3], will delete the value present at the 3rd index."
   ]
  },
  {
   "cell_type": "raw",
   "id": "e46cb664",
   "metadata": {},
   "source": []
  },
  {
   "cell_type": "markdown",
   "id": "520717ba",
   "metadata": {},
   "source": [
    "### Q12. Describe how list values and string values are identical. "
   ]
  },
  {
   "cell_type": "markdown",
   "id": "e2d334ac",
   "metadata": {},
   "source": [
    "#### Answer:"
   ]
  },
  {
   "cell_type": "markdown",
   "id": "e6fa9183",
   "metadata": {},
   "source": [
    "Both lists and strings can be passed to len(), have indexes and slices, be used in for loops, be concatenated or replicated, and be used with the in and not in operators."
   ]
  },
  {
   "cell_type": "code",
   "execution_count": 19,
   "id": "e9d82b78",
   "metadata": {},
   "outputs": [
    {
     "name": "stdout",
     "output_type": "stream",
     "text": [
      "length of list 3\n",
      "Value at index 1 2\n"
     ]
    }
   ],
   "source": [
    "print('length of list', len(lst))\n",
    "print('Value at index 1', lst[1])"
   ]
  },
  {
   "cell_type": "code",
   "execution_count": 21,
   "id": "a91b8f2c",
   "metadata": {
    "scrolled": true
   },
   "outputs": [
    {
     "name": "stdout",
     "output_type": "stream",
     "text": [
      "length of String 10\n",
      "Value at index 1 a\n"
     ]
    }
   ],
   "source": [
    "Slogan = \"Ram Ram Ji\"\n",
    "print('length of String', len(Slogan))\n",
    "print('Value at index 1', Slogan[1])"
   ]
  },
  {
   "cell_type": "raw",
   "id": "385bfc0b",
   "metadata": {},
   "source": []
  },
  {
   "cell_type": "markdown",
   "id": "1750e823",
   "metadata": {},
   "source": [
    "### Q13. What's the difference between tuples and lists? "
   ]
  },
  {
   "cell_type": "markdown",
   "id": "ac819fc1",
   "metadata": {},
   "source": [
    "#### Answer:"
   ]
  },
  {
   "cell_type": "markdown",
   "id": "43afccf8",
   "metadata": {},
   "source": [
    "Lists are mutable; they can have values added, removed, or changed. Tuples are immutable; they cannot be changed at all. Also, tuples are written using parentheses, ( and ), while lists use the square brackets, [ and ].\n",
    "\n",
    "\n",
    "\n",
    "|List||Tuple|\n",
    "|----||-----|\n",
    "|List are mutable|| Tuple are immutable|\n",
    "|List can be represented by [ ]||Tuple can be represented by ( )|\n",
    "|Example: [1, 2, 3, 4, 5]||Example: (1, 2, 3, 4, 5)|"
   ]
  },
  {
   "cell_type": "raw",
   "id": "e5b811e3",
   "metadata": {},
   "source": []
  },
  {
   "cell_type": "markdown",
   "id": "192ae2d0",
   "metadata": {},
   "source": [
    "### Q14. How do you type a tuple value that only contains the integer 42? "
   ]
  },
  {
   "cell_type": "markdown",
   "id": "378548c7",
   "metadata": {},
   "source": [
    "#### Answer:"
   ]
  },
  {
   "cell_type": "markdown",
   "id": "20a21055",
   "metadata": {},
   "source": [
    "tuple value that only contains the integer 42 is  `(42,)`"
   ]
  },
  {
   "cell_type": "raw",
   "id": "8756f1ac",
   "metadata": {},
   "source": []
  },
  {
   "cell_type": "markdown",
   "id": "d3a1cefa",
   "metadata": {},
   "source": [
    "### Q15. How do you get a list value&#39;s tuple form? How do you get a tuple value's list form?"
   ]
  },
  {
   "cell_type": "markdown",
   "id": "9e376d3b",
   "metadata": {},
   "source": [
    "#### Answer:"
   ]
  },
  {
   "cell_type": "markdown",
   "id": "880235bb",
   "metadata": {},
   "source": [
    "The tuple() and list() functions, respectively"
   ]
  },
  {
   "cell_type": "raw",
   "id": "fda2a535",
   "metadata": {},
   "source": []
  },
  {
   "cell_type": "markdown",
   "id": "80f60c80",
   "metadata": {},
   "source": [
    "### Q16. Variables that &quot;contain&quot; list values are not necessarily lists themselves. Instead, what do they contain? "
   ]
  },
  {
   "cell_type": "markdown",
   "id": "eeeb3ab1",
   "metadata": {},
   "source": [
    "#### Answer:"
   ]
  },
  {
   "cell_type": "markdown",
   "id": "8588563c",
   "metadata": {},
   "source": [
    "They contain references to list values."
   ]
  },
  {
   "cell_type": "raw",
   "id": "51b11027",
   "metadata": {},
   "source": []
  },
  {
   "cell_type": "markdown",
   "id": "f055be15",
   "metadata": {},
   "source": [
    "### Q17. How do you distinguish between copy.copy() and copy.deepcopy()?"
   ]
  },
  {
   "cell_type": "markdown",
   "id": "80b04e2b",
   "metadata": {},
   "source": [
    "#### Answer:"
   ]
  },
  {
   "cell_type": "markdown",
   "id": "ef66967e",
   "metadata": {},
   "source": [
    "The copy.copy() function will do a shallow copy of a list. which means if there a nested list is there the copy.copy() will not be able to copy the inside list\n",
    "\n",
    "while the copy.deepcopy() function will do a deep copy of a list. That is, only copy.deepcopy() will duplicate any lists inside the list."
   ]
  },
  {
   "cell_type": "code",
   "execution_count": null,
   "id": "98423837",
   "metadata": {},
   "outputs": [],
   "source": []
  }
 ],
 "metadata": {
  "kernelspec": {
   "display_name": "Python 3 (ipykernel)",
   "language": "python",
   "name": "python3"
  },
  "language_info": {
   "codemirror_mode": {
    "name": "ipython",
    "version": 3
   },
   "file_extension": ".py",
   "mimetype": "text/x-python",
   "name": "python",
   "nbconvert_exporter": "python",
   "pygments_lexer": "ipython3",
   "version": "3.9.12"
  }
 },
 "nbformat": 4,
 "nbformat_minor": 5
}
