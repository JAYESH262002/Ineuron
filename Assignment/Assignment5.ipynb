{
 "cells": [
  {
   "cell_type": "markdown",
   "id": "d8d468cb",
   "metadata": {},
   "source": [
    "### <div class='alert alert-info'> Assignment5 by jayesh singh </div>"
   ]
  },
  {
   "cell_type": "raw",
   "id": "38826e15",
   "metadata": {},
   "source": []
  },
  {
   "cell_type": "markdown",
   "id": "7f470de4",
   "metadata": {},
   "source": [
    "### Q1. What does an empty dictionary&#39;s code look like? "
   ]
  },
  {
   "cell_type": "markdown",
   "id": "8eaa23f0",
   "metadata": {},
   "source": [
    "#### Answer:"
   ]
  },
  {
   "cell_type": "markdown",
   "id": "bdae2acc",
   "metadata": {},
   "source": [
    "`dict = { }`"
   ]
  },
  {
   "cell_type": "raw",
   "id": "b59b2cf8",
   "metadata": {},
   "source": []
  },
  {
   "cell_type": "markdown",
   "id": "ed152420",
   "metadata": {},
   "source": [
    "### Q2. What is the value of a dictionary value with the key &#39;foo&#39; and the value 42?"
   ]
  },
  {
   "cell_type": "markdown",
   "id": "b0021728",
   "metadata": {},
   "source": [
    "#### Answer:"
   ]
  },
  {
   "cell_type": "code",
   "execution_count": 1,
   "id": "3bffb4c6",
   "metadata": {},
   "outputs": [],
   "source": [
    "dict = {'foo': 42}"
   ]
  },
  {
   "cell_type": "raw",
   "id": "e9cd7142",
   "metadata": {},
   "source": []
  },
  {
   "cell_type": "markdown",
   "id": "9eb2b4e1",
   "metadata": {},
   "source": [
    "### Q3. What is the most significant distinction between a dictionary and a list? "
   ]
  },
  {
   "cell_type": "markdown",
   "id": "2925822e",
   "metadata": {},
   "source": [
    "#### Answer:"
   ]
  },
  {
   "cell_type": "markdown",
   "id": "45085533",
   "metadata": {},
   "source": [
    "`Dictionary` : Have key and value, \n",
    "`list`       : Don't have any, they just store the value directly."
   ]
  },
  {
   "cell_type": "raw",
   "id": "bf46595b",
   "metadata": {},
   "source": []
  },
  {
   "cell_type": "markdown",
   "id": "d9579e56",
   "metadata": {},
   "source": [
    "### Q4. What happens if you try to access spam['foo'] if spam is {'bar': 100}? "
   ]
  },
  {
   "cell_type": "markdown",
   "id": "0e8b3147",
   "metadata": {},
   "source": [
    "#### Answer:"
   ]
  },
  {
   "cell_type": "markdown",
   "id": "c97e94ea",
   "metadata": {},
   "source": [
    "spam = {'bar':100}\n",
    "\n",
    "spam['foo']\n",
    "\n",
    "\n",
    "KeyError                                  Traceback (most recent call last)\n",
    "Input In [6], in <cell line: 3>()\n",
    "\n",
    "      1 spam = {'bar':100}\n",
    "      \n",
    "----> 3 spam['foo']\n",
    "\n",
    "KeyError: 'foo'"
   ]
  },
  {
   "cell_type": "markdown",
   "id": "93769552",
   "metadata": {},
   "source": [
    "We'll get Key Error as this key does not exist."
   ]
  },
  {
   "cell_type": "raw",
   "id": "45e0c2d0",
   "metadata": {},
   "source": []
  },
  {
   "cell_type": "markdown",
   "id": "31cb62e5",
   "metadata": {},
   "source": [
    "### Q5. If a dictionary is stored in spam, what is the difference between the expressions 'cat' in spam and 'cat' in spam.keys()?"
   ]
  },
  {
   "cell_type": "markdown",
   "id": "99d48e4f",
   "metadata": {},
   "source": [
    "#### Answer:"
   ]
  },
  {
   "cell_type": "markdown",
   "id": "23008468",
   "metadata": {},
   "source": [
    "There is no difference. The in operator checks whether a value exists as a key in the dictionary."
   ]
  },
  {
   "cell_type": "raw",
   "id": "7bc04607",
   "metadata": {},
   "source": []
  },
  {
   "cell_type": "markdown",
   "id": "a67d1f45",
   "metadata": {},
   "source": [
    "### Q6. If a dictionary is stored in spam, what is the difference between the expressions 'cat' in spam and 'cat' in spam.values()? "
   ]
  },
  {
   "cell_type": "markdown",
   "id": "8510826e",
   "metadata": {},
   "source": [
    "#### Answer:"
   ]
  },
  {
   "cell_type": "markdown",
   "id": "8450b36a",
   "metadata": {},
   "source": [
    "'cat' in spam will check whether is there any key named 'cat' in dict\n",
    "\n",
    "while 'cat' in spam.values() will check whether there is a values in dict."
   ]
  },
  {
   "cell_type": "raw",
   "id": "b71216a0",
   "metadata": {},
   "source": []
  },
  {
   "cell_type": "markdown",
   "id": "7d62a82d",
   "metadata": {},
   "source": [
    "### Q7. What is a shortcut for the following code?\n",
    "    if 'color' not in spam:\n",
    "\n",
    "        spam['color'] = 'black'"
   ]
  },
  {
   "cell_type": "raw",
   "id": "b058fbaa",
   "metadata": {},
   "source": [
    "#### Answer:"
   ]
  },
  {
   "cell_type": "markdown",
   "id": "473755f2",
   "metadata": {},
   "source": [
    "`if 'color' not in spam: spam['color'] = 'black'`\n",
    "\n",
    "    spam.setdefault('color', 'black')"
   ]
  },
  {
   "cell_type": "code",
   "execution_count": null,
   "id": "29bec1fc",
   "metadata": {},
   "outputs": [],
   "source": []
  },
  {
   "cell_type": "markdown",
   "id": "e96142db",
   "metadata": {},
   "source": [
    "### Q8. How do you &quot;pretty print&quot; dictionary values using which module and function? "
   ]
  },
  {
   "cell_type": "markdown",
   "id": "833d9d73",
   "metadata": {},
   "source": [
    "#### Answer:"
   ]
  },
  {
   "cell_type": "markdown",
   "id": "181ee1ea",
   "metadata": {},
   "source": [
    "pprint.pprint()"
   ]
  },
  {
   "cell_type": "code",
   "execution_count": null,
   "id": "a58c65ea",
   "metadata": {},
   "outputs": [],
   "source": []
  }
 ],
 "metadata": {
  "kernelspec": {
   "display_name": "Python 3 (ipykernel)",
   "language": "python",
   "name": "python3"
  },
  "language_info": {
   "codemirror_mode": {
    "name": "ipython",
    "version": 3
   },
   "file_extension": ".py",
   "mimetype": "text/x-python",
   "name": "python",
   "nbconvert_exporter": "python",
   "pygments_lexer": "ipython3",
   "version": "3.9.12"
  }
 },
 "nbformat": 4,
 "nbformat_minor": 5
}
