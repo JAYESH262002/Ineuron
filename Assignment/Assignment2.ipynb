{
 "cells": [
  {
   "cell_type": "markdown",
   "id": "b0912025",
   "metadata": {},
   "source": [
    "### <div class='alert alert-info'> Assignment 2 by Jayesh Singh </div> "
   ]
  },
  {
   "cell_type": "raw",
   "id": "5f04660f",
   "metadata": {},
   "source": [
    "Q1.What are the two values of the Boolean data type? How do you write them?"
   ]
  },
  {
   "cell_type": "markdown",
   "id": "bf21e280",
   "metadata": {},
   "source": [
    "##### Answer: "
   ]
  },
  {
   "cell_type": "markdown",
   "id": "437ff01f",
   "metadata": {},
   "source": [
    "The two value of boolean data type is `True` & `False`.where True as 1 and False as 0."
   ]
  },
  {
   "cell_type": "code",
   "execution_count": 1,
   "id": "d494e646",
   "metadata": {},
   "outputs": [
    {
     "data": {
      "text/plain": [
       "True"
      ]
     },
     "execution_count": 1,
     "metadata": {},
     "output_type": "execute_result"
    }
   ],
   "source": [
    "a=5\n",
    "b=5\n",
    "a==b"
   ]
  },
  {
   "cell_type": "code",
   "execution_count": null,
   "id": "ee89f332",
   "metadata": {},
   "outputs": [],
   "source": []
  },
  {
   "cell_type": "raw",
   "id": "54ca7ca9",
   "metadata": {},
   "source": [
    "Q2. What are the three different types of Boolean operators?"
   ]
  },
  {
   "cell_type": "markdown",
   "id": "047a9d5d",
   "metadata": {},
   "source": [
    "##### Answer: "
   ]
  },
  {
   "cell_type": "markdown",
   "id": "718c6490",
   "metadata": {},
   "source": [
    "##### Answer: "
   ]
  },
  {
   "cell_type": "markdown",
   "id": "0554aa14",
   "metadata": {},
   "source": [
    "The 3 basic types of Boolean operators are:\n",
    "\n",
    "`And` -> &\n",
    "\n",
    "`Or` -> |\n",
    "\n",
    "`Not` -> ~"
   ]
  },
  {
   "cell_type": "code",
   "execution_count": 2,
   "id": "516f9664",
   "metadata": {},
   "outputs": [
    {
     "name": "stdout",
     "output_type": "stream",
     "text": [
      "1\n",
      "7\n",
      "-4 -6\n"
     ]
    }
   ],
   "source": [
    "a=3 # a=011\n",
    "b=5 # b=101\n",
    "print(a&b) # a&b = 001\n",
    "print(a|b)\n",
    "print(~a, ~b)"
   ]
  },
  {
   "cell_type": "raw",
   "id": "441ebc00",
   "metadata": {},
   "source": []
  },
  {
   "cell_type": "raw",
   "id": "498c6386",
   "metadata": {},
   "source": [
    "Q3. Make a list of each Boolean operator's truth tables (i.e. every possible combination of Boolean      values for the operator and what it evaluate )."
   ]
  },
  {
   "cell_type": "markdown",
   "id": "fddb3a61",
   "metadata": {},
   "source": [
    "##### Answer: "
   ]
  },
  {
   "cell_type": "markdown",
   "id": "a116e849",
   "metadata": {},
   "source": [
    "And\n",
    "\n",
    "|A||B||OutPuT|\n",
    "|-||-||------|\n",
    "|0||0||  0   |\n",
    "|0||1||  0   |\n",
    "|1||0||  0   |\n",
    "|1||1||  1   |\n",
    "\n",
    "\n",
    "Or\n",
    "\n",
    "|A||B||OutPuT|\n",
    "|-||-||------|\n",
    "|0||0||  0   |\n",
    "|0||1||  1   |\n",
    "|1||0||  1   |\n",
    "|1||1||  1   |\n",
    "\n",
    "\n",
    "Not\n",
    "\n",
    "a=1\n",
    "~a = 0"
   ]
  },
  {
   "cell_type": "raw",
   "id": "82a9925c",
   "metadata": {},
   "source": []
  },
  {
   "cell_type": "raw",
   "id": "954b9021",
   "metadata": {},
   "source": [
    "Q4. What are the values of the following expressions?\n",
    "    (5 > 4) and (3 == 5)\n",
    "    not (5 < 4)\n",
    "    (5 > 4) or (3 == 5)\n",
    "    not ((5 > 4) or (3 == 5))\n",
    "    (True and True) and (True == False)\n",
    "    (not False) or (not True)"
   ]
  },
  {
   "cell_type": "markdown",
   "id": "6d20d6db",
   "metadata": {},
   "source": [
    "##### Answer: "
   ]
  },
  {
   "cell_type": "markdown",
   "id": "b89712e1",
   "metadata": {},
   "source": [
    "1. (5 > 4) and (3 == 5)                  -> False\n",
    "\n",
    "2. not (5 < 4)                           -> True\n",
    "\n",
    "3. (5 > 4) or (3 == 5)                   -> True\n",
    "\n",
    "4. not ((5 > 4) or (3 == 5))             -> False\n",
    "\n",
    "5. (True and True) and (True == False)   -> False\n",
    "\n",
    "6. (not False) or (not True)             -> False"
   ]
  },
  {
   "cell_type": "raw",
   "id": "60845435",
   "metadata": {},
   "source": [
    "Q5. What are the six comparison operators?"
   ]
  },
  {
   "cell_type": "markdown",
   "id": "8609e407",
   "metadata": {},
   "source": [
    "##### Answer: "
   ]
  },
  {
   "cell_type": "markdown",
   "id": "2d33a097",
   "metadata": {},
   "source": [
    "The 6 comparison operators are :\n",
    "\n",
    "Equal Operator (==), ex: a=5, b=5, `a==b`\n",
    "\n",
    "Less Than Operator (<), ex: a=4, b=5, `a<b`\n",
    "\n",
    "Greater Than Operator (>), ex: a=7, b=5, `a>b`\n",
    "\n",
    "Not Equal Operator (!=), ex: a=4, b=5, `a!=b`\n",
    "\n",
    "Less Than Equals to Operator (<=)\n",
    "\n",
    "Greater Than Equals to Operator (>=)"
   ]
  },
  {
   "cell_type": "raw",
   "id": "585c2d02",
   "metadata": {},
   "source": []
  },
  {
   "cell_type": "raw",
   "id": "bf5c0ffa",
   "metadata": {},
   "source": [
    "Q6. How do you tell the difference between the equal to and assignment operators?Describe a\n",
    "    condition and when you would use one."
   ]
  },
  {
   "cell_type": "markdown",
   "id": "0ed2e12d",
   "metadata": {},
   "source": [
    "##### Answer: "
   ]
  },
  {
   "cell_type": "markdown",
   "id": "d9141418",
   "metadata": {},
   "source": [
    "`equal to` `==` check whether the value vlue is equal or not.\n",
    "\n",
    "`assignment` `=` used to store an value to the variable.\n",
    "\n",
    "ex:\n",
    "\n",
    "`a=5` #here this is an assignment operation\n",
    "\n",
    "`b=5` #here this is an assignment operation\n",
    "\n",
    "`a==b` #here this is an equal to operation, where it will check whether the stored value is equal or not, and in this case it is equal. so it will return `True`."
   ]
  },
  {
   "cell_type": "code",
   "execution_count": null,
   "id": "7d21568a",
   "metadata": {},
   "outputs": [],
   "source": []
  },
  {
   "cell_type": "raw",
   "id": "d9e98d76",
   "metadata": {},
   "source": [
    "Q7. Identify the three blocks in this code:\n",
    "    spam = 0\n",
    "    if spam == 10:\n",
    "    print('eggs')\n",
    "    if spam &gt; 5:\n",
    "    print('bacon')\n",
    "    else:\n",
    "    print('ham')\n",
    "    print('spam')\n",
    "    print('spam&')"
   ]
  },
  {
   "cell_type": "markdown",
   "id": "b6231d67",
   "metadata": {},
   "source": [
    "##### Answer: "
   ]
  },
  {
   "cell_type": "code",
   "execution_count": 3,
   "id": "8021ef71",
   "metadata": {},
   "outputs": [
    {
     "name": "stdout",
     "output_type": "stream",
     "text": [
      "ham\n",
      "spam\n",
      "spam&\n"
     ]
    }
   ],
   "source": [
    "spam = 0\n",
    "if spam == 10:\n",
    "    print('eggs')\n",
    "if spam > 5:\n",
    "    print('bacon')\n",
    "else:\n",
    "    print('ham')\n",
    "    print('spam')\n",
    "    print('spam&')"
   ]
  },
  {
   "cell_type": "markdown",
   "id": "cd36d7b5",
   "metadata": {},
   "source": [
    "The 3 blobk are: \n",
    "1. print('eggs')\n",
    "\n",
    "2. print('bacon')\n",
    "\n",
    "3. print('ham')\n",
    "\n",
    "   print('spam')\n",
    "   \n",
    "   print('spam&')\n",
    "   \n",
    "   "
   ]
  },
  {
   "cell_type": "raw",
   "id": "a7d0e775",
   "metadata": {},
   "source": []
  },
  {
   "cell_type": "raw",
   "id": "6979b70a",
   "metadata": {},
   "source": [
    "Q8. Write code that prints Hello if 1 is stored in spam, prints Howdy if 2 is stored in spam, and        prints Greetings! if anything else is stored in spam."
   ]
  },
  {
   "cell_type": "markdown",
   "id": "63b11da5",
   "metadata": {},
   "source": [
    "##### Answer: "
   ]
  },
  {
   "cell_type": "code",
   "execution_count": 4,
   "id": "709b380e",
   "metadata": {},
   "outputs": [
    {
     "name": "stdout",
     "output_type": "stream",
     "text": [
      "spam\n"
     ]
    }
   ],
   "source": [
    "spam=1\n",
    "if(spam==1):\n",
    "    print('spam')\n",
    "elif(spam==2):\n",
    "    print('Howdy')\n",
    "else:\n",
    "    print('Greetings!')"
   ]
  },
  {
   "cell_type": "raw",
   "id": "2fd55f9c",
   "metadata": {},
   "source": []
  },
  {
   "cell_type": "raw",
   "id": "9e390268",
   "metadata": {},
   "source": [
    "Q9.If your programme is stuck in an endless loop, what keys you’ll press?"
   ]
  },
  {
   "cell_type": "markdown",
   "id": "2535d0df",
   "metadata": {},
   "source": [
    "##### Answer: "
   ]
  },
  {
   "cell_type": "markdown",
   "id": "f14d1081",
   "metadata": {},
   "source": [
    "Ctrl + C"
   ]
  },
  {
   "cell_type": "raw",
   "id": "826cd798",
   "metadata": {},
   "source": []
  },
  {
   "cell_type": "raw",
   "id": "4642bcf0",
   "metadata": {},
   "source": [
    "Q10. How can you tell the difference between break and continue?"
   ]
  },
  {
   "cell_type": "markdown",
   "id": "a0324209",
   "metadata": {},
   "source": [
    "##### Answer: "
   ]
  },
  {
   "cell_type": "markdown",
   "id": "e937069e",
   "metadata": {},
   "source": [
    "Break is used to terminate the loop.\n",
    "\n",
    "Continue is used to skip the current iteration and jump to next iteration."
   ]
  },
  {
   "cell_type": "code",
   "execution_count": 5,
   "id": "b90fa93f",
   "metadata": {},
   "outputs": [
    {
     "name": "stdout",
     "output_type": "stream",
     "text": [
      "0\n",
      "1\n",
      "2\n"
     ]
    }
   ],
   "source": [
    "for i in range(0,10):\n",
    "    if(i==3):\n",
    "        break\n",
    "    print(i)"
   ]
  },
  {
   "cell_type": "markdown",
   "id": "20cb4e98",
   "metadata": {},
   "source": [
    "the moment i becomes 3, the loop got terminated."
   ]
  },
  {
   "cell_type": "code",
   "execution_count": 6,
   "id": "eebf49b9",
   "metadata": {},
   "outputs": [
    {
     "name": "stdout",
     "output_type": "stream",
     "text": [
      "0\n",
      "1\n",
      "2\n",
      "3\n",
      "5\n"
     ]
    }
   ],
   "source": [
    "for i in range(0,6):\n",
    "    if(i==4):\n",
    "        continue\n",
    "    print(i)"
   ]
  },
  {
   "cell_type": "markdown",
   "id": "2308a853",
   "metadata": {},
   "source": [
    "the moment i become 4, it's skipped the current iteration."
   ]
  },
  {
   "cell_type": "raw",
   "id": "2bcaa193",
   "metadata": {},
   "source": []
  },
  {
   "cell_type": "raw",
   "id": "23bc7b46",
   "metadata": {},
   "source": [
    "Q11. In a for loop, what is the difference between range(10), range(0, 10), and range(0, 10, 1)?"
   ]
  },
  {
   "cell_type": "markdown",
   "id": "70a05d58",
   "metadata": {},
   "source": [
    "##### Answer: "
   ]
  },
  {
   "cell_type": "markdown",
   "id": "c9d04e05",
   "metadata": {},
   "source": [
    "`for i in range(start:end:step):`\n",
    "\n",
    "if we look clearly all 3 of them indicated the same thing, that heay loop start from 0 and go until 9 and performed the specified operation."
   ]
  },
  {
   "cell_type": "raw",
   "id": "85c1e8a3",
   "metadata": {},
   "source": []
  },
  {
   "cell_type": "raw",
   "id": "f38ccd1c",
   "metadata": {},
   "source": [
    "Q12. Write a short program that prints the numbers 1 to 10 using a for loop. Then write an equivalent\n",
    "program that prints the numbers 1 to 10 using a while loop."
   ]
  },
  {
   "cell_type": "markdown",
   "id": "94c76f2b",
   "metadata": {},
   "source": [
    "##### Answer: "
   ]
  },
  {
   "cell_type": "markdown",
   "id": "e42e176b",
   "metadata": {},
   "source": [
    "`For Loop`"
   ]
  },
  {
   "cell_type": "code",
   "execution_count": 7,
   "id": "1c4e022c",
   "metadata": {},
   "outputs": [
    {
     "name": "stdout",
     "output_type": "stream",
     "text": [
      "1 2 3 4 5 6 7 8 9 10 "
     ]
    }
   ],
   "source": [
    "for i in range(1, 11):\n",
    "    print(i, end=' ')"
   ]
  },
  {
   "cell_type": "code",
   "execution_count": 8,
   "id": "bbade636",
   "metadata": {},
   "outputs": [
    {
     "name": "stdout",
     "output_type": "stream",
     "text": [
      "1 2 3 4 5 6 7 8 9 10 "
     ]
    }
   ],
   "source": [
    "n=1\n",
    "while(n<11):\n",
    "    print(n, end=' ')\n",
    "    n=n+1"
   ]
  },
  {
   "cell_type": "raw",
   "id": "85361490",
   "metadata": {},
   "source": []
  },
  {
   "cell_type": "raw",
   "id": "a13b4d5f",
   "metadata": {},
   "source": [
    "Q13. If you had a function named bacon() inside a module named spam, how would you call it after\n",
    "importing spam?"
   ]
  },
  {
   "cell_type": "markdown",
   "id": "76785fbe",
   "metadata": {},
   "source": [
    "##### Answer: "
   ]
  },
  {
   "cell_type": "markdown",
   "id": "89a1bca0",
   "metadata": {},
   "source": [
    "This function can be called with spam.bacon().\n",
    "\n",
    "import spam\n",
    "\n",
    "spam.bacom()"
   ]
  },
  {
   "cell_type": "raw",
   "id": "ec879bae",
   "metadata": {},
   "source": []
  }
 ],
 "metadata": {
  "kernelspec": {
   "display_name": "Python 3 (ipykernel)",
   "language": "python",
   "name": "python3"
  },
  "language_info": {
   "codemirror_mode": {
    "name": "ipython",
    "version": 3
   },
   "file_extension": ".py",
   "mimetype": "text/x-python",
   "name": "python",
   "nbconvert_exporter": "python",
   "pygments_lexer": "ipython3",
   "version": "3.9.12"
  }
 },
 "nbformat": 4,
 "nbformat_minor": 5
}
