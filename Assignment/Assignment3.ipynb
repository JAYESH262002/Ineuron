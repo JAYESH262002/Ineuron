{
 "cells": [
  {
   "cell_type": "markdown",
   "id": "a590d78e",
   "metadata": {},
   "source": [
    "### <div class='alert alert-info'>Assignment3 by Jayesh Singh</div>"
   ]
  },
  {
   "cell_type": "markdown",
   "id": "5731d351",
   "metadata": {},
   "source": [
    "### Q1. Why are functions advantageous to have in your programs? "
   ]
  },
  {
   "cell_type": "markdown",
   "id": "e7e4b51b",
   "metadata": {},
   "source": [
    "#### Answer "
   ]
  },
  {
   "cell_type": "markdown",
   "id": "0c90b790",
   "metadata": {},
   "source": [
    "Funtion help us in to make the code neat, clean and shorts.like if we have been told to do he task repeatedly. instead of writing the same code, we can just create a funtion and call it over and over again."
   ]
  },
  {
   "cell_type": "code",
   "execution_count": 1,
   "id": "bc95d9bb",
   "metadata": {},
   "outputs": [
    {
     "name": "stdout",
     "output_type": "stream",
     "text": [
      "Hello, I am Jayesh Singh Raghuvanshi. it's nice to meet you\n",
      "Hello, I am Jayesh Singh Raghuvanshi. it's nice to meet you\n",
      "Hello, I am Jayesh Singh Raghuvanshi. it's nice to meet you\n",
      "Hello, I am Jayesh Singh Raghuvanshi. it's nice to meet you\n",
      "Hello, I am Jayesh Singh Raghuvanshi. it's nice to meet you\n"
     ]
    }
   ],
   "source": [
    "print(\"Hello, I am Jayesh Singh Raghuvanshi. it's nice to meet you\")\n",
    "print(\"Hello, I am Jayesh Singh Raghuvanshi. it's nice to meet you\")\n",
    "print(\"Hello, I am Jayesh Singh Raghuvanshi. it's nice to meet you\")\n",
    "print(\"Hello, I am Jayesh Singh Raghuvanshi. it's nice to meet you\")\n",
    "print(\"Hello, I am Jayesh Singh Raghuvanshi. it's nice to meet you\")"
   ]
  },
  {
   "cell_type": "code",
   "execution_count": 2,
   "id": "0d141ec5",
   "metadata": {},
   "outputs": [
    {
     "name": "stdout",
     "output_type": "stream",
     "text": [
      "Hello, I am Jayesh Singh Raghuvanshi. it's nice to meet you\n",
      "Hello, I am Jayesh Singh Raghuvanshi. it's nice to meet you\n",
      "Hello, I am Jayesh Singh Raghuvanshi. it's nice to meet you\n"
     ]
    }
   ],
   "source": [
    "def name():\n",
    "    print(\"Hello, I am Jayesh Singh Raghuvanshi. it's nice to meet you\")\n",
    "name()\n",
    "name()\n",
    "name()"
   ]
  },
  {
   "cell_type": "markdown",
   "id": "37b29afd",
   "metadata": {},
   "source": [
    "It's just one of the example. we can use it in many other fruitful ways."
   ]
  },
  {
   "cell_type": "raw",
   "id": "f2525ee8",
   "metadata": {},
   "source": []
  },
  {
   "cell_type": "markdown",
   "id": "9128bf67",
   "metadata": {},
   "source": [
    "### Q2. When does the code in a function run: when it&#39;s specified or when it&#39;s called?"
   ]
  },
  {
   "cell_type": "markdown",
   "id": "d34089aa",
   "metadata": {},
   "source": [
    "#### Answer "
   ]
  },
  {
   "cell_type": "markdown",
   "id": "f682955d",
   "metadata": {},
   "source": [
    "The code inside the funtion run only when it is `called`."
   ]
  },
  {
   "cell_type": "raw",
   "id": "a539fff6",
   "metadata": {},
   "source": []
  },
  {
   "cell_type": "markdown",
   "id": "4df73684",
   "metadata": {},
   "source": [
    "### Q3. What statement creates a function?"
   ]
  },
  {
   "cell_type": "markdown",
   "id": "540cb6e7",
   "metadata": {},
   "source": [
    "#### Answer "
   ]
  },
  {
   "cell_type": "markdown",
   "id": "6fa8af0a",
   "metadata": {},
   "source": [
    "`def` statement is used to create the funtion."
   ]
  },
  {
   "cell_type": "code",
   "execution_count": 3,
   "id": "76786124",
   "metadata": {},
   "outputs": [
    {
     "name": "stdout",
     "output_type": "stream",
     "text": [
      "Enter your name: Jayesh Singh Raghuvanshi\n",
      "Enter you id: 1\n",
      "Enter your marks: 100\n",
      "Hello  Jayesh Singh Raghuvanshi your id is  1 and you got  100 marks\n"
     ]
    }
   ],
   "source": [
    "name  = input(\"Enter your name: \")\n",
    "ids   = int(input(\"Enter you id: \"))\n",
    "marks = int(input(\"Enter your marks: \"))\n",
    "\n",
    "\n",
    "def details(name, ids, marks):\n",
    "    print('Hello ',name,'your id is ',ids,'and you got ',marks,'marks')\n",
    "\n",
    "details(name, ids, marks)\n",
    "    "
   ]
  },
  {
   "cell_type": "raw",
   "id": "15d6d431",
   "metadata": {},
   "source": []
  },
  {
   "cell_type": "markdown",
   "id": "9f5310b9",
   "metadata": {},
   "source": [
    "### Q4. What is the difference between a function and a function call?"
   ]
  },
  {
   "cell_type": "markdown",
   "id": "71c66b9a",
   "metadata": {},
   "source": [
    "#### Answer "
   ]
  },
  {
   "cell_type": "markdown",
   "id": "7cf58194",
   "metadata": {},
   "source": [
    "`Funtion` is a procedure to do a task.\n",
    "\n",
    "`Funtion Call` is calling the funtion to perform the task. without the funtion call, the funtion itself is of no use.\n",
    "\n",
    "So the difference between the `function` and `function call` is, A function is procedure to achieve a particular result while function call is using this function to achive that task."
   ]
  },
  {
   "cell_type": "raw",
   "id": "6447b656",
   "metadata": {},
   "source": []
  },
  {
   "cell_type": "markdown",
   "id": "97a77fc7",
   "metadata": {},
   "source": [
    "### Q5. How many global scopes are there in a Python program? How many local scopes? "
   ]
  },
  {
   "cell_type": "markdown",
   "id": "d876cd85",
   "metadata": {},
   "source": [
    "#### Answer "
   ]
  },
  {
   "cell_type": "markdown",
   "id": "c6fffddc",
   "metadata": {},
   "source": [
    "Python has 2 scope:\n",
    "1. `Global`\n",
    "2. `local`\n",
    "\n",
    "`Global Scope` is which is avialbe in the main class and accessable to all the funtion inside that class.\n",
    "\n",
    "`local Scope` is accessable to funtion in which it is initiated(created)."
   ]
  },
  {
   "cell_type": "raw",
   "id": "be14bbe3",
   "metadata": {},
   "source": []
  },
  {
   "cell_type": "markdown",
   "id": "6d0f8fcb",
   "metadata": {},
   "source": [
    "### Q6. What happens to variables in a local scope when the function call returns?"
   ]
  },
  {
   "cell_type": "markdown",
   "id": "16359d21",
   "metadata": {},
   "source": [
    "#### Answer "
   ]
  },
  {
   "cell_type": "markdown",
   "id": "4b7316cd",
   "metadata": {},
   "source": [
    "All local variables are destroyed as soon as your funtion call return."
   ]
  },
  {
   "cell_type": "raw",
   "id": "a3ce6689",
   "metadata": {},
   "source": []
  },
  {
   "cell_type": "markdown",
   "id": "65b204db",
   "metadata": {},
   "source": [
    "### Q7. What is the concept of a return value? Is it possible to have a return value in an expression?"
   ]
  },
  {
   "cell_type": "markdown",
   "id": "7ff4b62c",
   "metadata": {},
   "source": [
    "#### Answer "
   ]
  },
  {
   "cell_type": "markdown",
   "id": "f8dde200",
   "metadata": {},
   "source": [
    "A return value is the value that a function call evaluates to. Like any value, a return value can be used as part of an expression."
   ]
  },
  {
   "cell_type": "code",
   "execution_count": 4,
   "id": "678a8930",
   "metadata": {},
   "outputs": [
    {
     "data": {
      "text/plain": [
       "False"
      ]
     },
     "execution_count": 4,
     "metadata": {},
     "output_type": "execute_result"
    }
   ],
   "source": [
    "a=5;\n",
    "b=6;\n",
    "def solve(a, b):\n",
    "    if(a==b):\n",
    "        return True\n",
    "    else:\n",
    "        return False\n",
    "\n",
    "x = solve(a, b)\n",
    "x"
   ]
  },
  {
   "cell_type": "raw",
   "id": "443a16d4",
   "metadata": {},
   "source": []
  },
  {
   "cell_type": "markdown",
   "id": "17a7d292",
   "metadata": {},
   "source": [
    "### Q8. If a function does not have a return statement, what is the return value of a call to that function?"
   ]
  },
  {
   "cell_type": "markdown",
   "id": "6b9c9638",
   "metadata": {},
   "source": [
    "#### Answer "
   ]
  },
  {
   "cell_type": "markdown",
   "id": "517d0545",
   "metadata": {},
   "source": [
    "If the funtion does not have any return statement then it will return None by default."
   ]
  },
  {
   "cell_type": "code",
   "execution_count": 5,
   "id": "37a1f279",
   "metadata": {},
   "outputs": [
    {
     "data": {
      "text/plain": [
       "<function __main__.solve(a, b)>"
      ]
     },
     "execution_count": 5,
     "metadata": {},
     "output_type": "execute_result"
    }
   ],
   "source": [
    "def solve(a, b):\n",
    "    sum = a+b\n",
    "    return\n",
    "solve"
   ]
  },
  {
   "cell_type": "raw",
   "id": "c661ada4",
   "metadata": {},
   "source": []
  },
  {
   "cell_type": "markdown",
   "id": "3e133fec",
   "metadata": {},
   "source": [
    "### Q9. How do you make a function variable refer to the global variable? "
   ]
  },
  {
   "cell_type": "markdown",
   "id": "85ef361a",
   "metadata": {},
   "source": [
    "#### Answer "
   ]
  },
  {
   "cell_type": "markdown",
   "id": "81e276ef",
   "metadata": {},
   "source": [
    "call the global variable as declaring it as global."
   ]
  },
  {
   "cell_type": "code",
   "execution_count": 6,
   "id": "a7c459e2",
   "metadata": {},
   "outputs": [
    {
     "name": "stdout",
     "output_type": "stream",
     "text": [
      "0 1 2 3 4 5 6 7 8 9 "
     ]
    }
   ],
   "source": [
    "sum = 0\n",
    "\n",
    "def CallMe():\n",
    "    global sum\n",
    "    while(sum<10):\n",
    "        print(sum, end=' ')\n",
    "        sum+=1\n",
    "\n",
    "CallMe()"
   ]
  },
  {
   "cell_type": "raw",
   "id": "72e62aa0",
   "metadata": {},
   "source": []
  },
  {
   "cell_type": "markdown",
   "id": "dbcf3fe2",
   "metadata": {},
   "source": [
    "### Q10. What is the data type of None?"
   ]
  },
  {
   "cell_type": "markdown",
   "id": "619b6bb4",
   "metadata": {},
   "source": [
    "#### Answer "
   ]
  },
  {
   "cell_type": "markdown",
   "id": "7265134e",
   "metadata": {},
   "source": [
    "The data type of None is NoneType."
   ]
  },
  {
   "cell_type": "raw",
   "id": "c8da1cdd",
   "metadata": {},
   "source": []
  },
  {
   "cell_type": "markdown",
   "id": "9d5a9fe9",
   "metadata": {},
   "source": [
    "### Q11. What does the sentence import areallyourpetsnamederic do? "
   ]
  },
  {
   "cell_type": "markdown",
   "id": "0eaa979f",
   "metadata": {},
   "source": [
    "#### Answer "
   ]
  },
  {
   "cell_type": "markdown",
   "id": "8772ba3a",
   "metadata": {},
   "source": [
    "It's is importing a modeule name areallyourpetsnamederic"
   ]
  },
  {
   "cell_type": "raw",
   "id": "175078ef",
   "metadata": {},
   "source": []
  },
  {
   "cell_type": "markdown",
   "id": "25fad785",
   "metadata": {},
   "source": [
    "### Q12. If you had a bacon() feature in a spam module, what would you call it after importing spam? "
   ]
  },
  {
   "cell_type": "markdown",
   "id": "bde9a97b",
   "metadata": {},
   "source": [
    "#### Answer "
   ]
  },
  {
   "cell_type": "markdown",
   "id": "d30bd9e7",
   "metadata": {},
   "source": [
    " We will call it by `spam.bacon()`"
   ]
  },
  {
   "cell_type": "raw",
   "id": "9a2a1b5f",
   "metadata": {},
   "source": []
  },
  {
   "cell_type": "markdown",
   "id": "c10c0406",
   "metadata": {},
   "source": [
    "### Q13. What can you do to save a programme from crashing if it encounters an error? "
   ]
  },
  {
   "cell_type": "markdown",
   "id": "61ce1aa1",
   "metadata": {},
   "source": [
    "#### Answer "
   ]
  },
  {
   "cell_type": "markdown",
   "id": "44e4638f",
   "metadata": {},
   "source": [
    "We will use `try` and `except`."
   ]
  },
  {
   "cell_type": "raw",
   "id": "252d532b",
   "metadata": {},
   "source": []
  },
  {
   "cell_type": "markdown",
   "id": "c8eb4f9a",
   "metadata": {},
   "source": [
    "### Q14. What is the purpose of the try clause? What is the purpose of the except clause? "
   ]
  },
  {
   "cell_type": "markdown",
   "id": "2addf734",
   "metadata": {},
   "source": [
    "#### Answer "
   ]
  },
  {
   "cell_type": "markdown",
   "id": "8d942bd2",
   "metadata": {},
   "source": [
    "The code that could potentially cause an error goes in the try clause.\n",
    "\n",
    "The code that executes if an error happens goes in the except clause."
   ]
  },
  {
   "cell_type": "code",
   "execution_count": 7,
   "id": "c4a4926a",
   "metadata": {
    "scrolled": true
   },
   "outputs": [
    {
     "name": "stdout",
     "output_type": "stream",
     "text": [
      "We can't divide a number by 0\n"
     ]
    }
   ],
   "source": [
    "try:\n",
    "    print(8/0)\n",
    "except:\n",
    "    print(\"We can't divide a number by 0\")"
   ]
  },
  {
   "cell_type": "markdown",
   "id": "17816b81",
   "metadata": {},
   "source": [
    "We know dividing a number by 0 is impossible as it is infinite. and we put it in try block and what to do after try is except, like what you want to the program to do is there is error in try block"
   ]
  },
  {
   "cell_type": "raw",
   "id": "d2989d2b",
   "metadata": {},
   "source": []
  }
 ],
 "metadata": {
  "kernelspec": {
   "display_name": "Python 3 (ipykernel)",
   "language": "python",
   "name": "python3"
  },
  "language_info": {
   "codemirror_mode": {
    "name": "ipython",
    "version": 3
   },
   "file_extension": ".py",
   "mimetype": "text/x-python",
   "name": "python",
   "nbconvert_exporter": "python",
   "pygments_lexer": "ipython3",
   "version": "3.9.12"
  }
 },
 "nbformat": 4,
 "nbformat_minor": 5
}
